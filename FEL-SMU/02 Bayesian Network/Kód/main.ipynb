{
 "cells": [
  {
   "cell_type": "code",
   "execution_count": 159,
   "metadata": {},
   "outputs": [],
   "source": [
    "import pandas as pd\n",
    "import numpy as np\n",
    "from scipy.stats import entropy\n",
    "\n",
    "from pgmpy.models import BayesianModel\n",
    "from pgmpy.estimators import HillClimbSearch, K2Score, BicScore\n",
    "from pgmpy.sampling.Sampling import BayesianModelSampling\n",
    "from pgmpy.factors.discrete.CPD import TabularCPD\n",
    "from pgmpy.readwrite.BIF import BIFWriter\n",
    "\n",
    "def JSD(P, Q):\n",
    "    _P = P / np.linalg.norm(P, ord=1)\n",
    "    _Q = Q / np.linalg.norm(Q, ord=1)\n",
    "    _M = 0.5 * (_P + _Q)\n",
    "    return 0.5 * (entropy(_P, _M) + entropy(_Q, _M))"
   ]
  },
  {
   "cell_type": "code",
   "execution_count": 140,
   "metadata": {},
   "outputs": [
    {
     "name": "stderr",
     "output_type": "stream",
     "text": [
      "/Users/Luke/.pyenv/versions/3.6.4/lib/python3.6/site-packages/ipykernel_launcher.py:1: FutureWarning: from_csv is deprecated. Please use read_csv(...) instead. Note that some of the default arguments are different, so please refer to the documentation for from_csv when changing your function calls\n",
      "  \"\"\"Entry point for launching an IPython kernel.\n"
     ]
    }
   ],
   "source": [
    "data = pd.DataFrame.from_csv('crash_sample_2018.csv', index_col=None)\n",
    "del data['Unnamed: 0']\n",
    "nodes = list(data.columns)\n",
    "cat_to_num = {'AvgSpeed' : {'low' :0, 'high':1}, \\\n",
    "              'Country' : {'US':0, 'UK':1, 'Europe':2}, \\\n",
    "              'DangerLvl' : {'low':0, 'high':1}, \\\n",
    "              'NoAccidents' : {'low':0, 'medium':1, 'high':2}, \\\n",
    "              'NoFatalities' : {'low':0, 'medium':1, 'high':2}, \\\n",
    "              'NoJourneys' : {'low':0, 'medium':1, 'high':2}, \\\n",
    "              'PoliceActivity' : {'regular':0, 'increased':1}, \\\n",
    "              'RoadCond' : {'bad':0,'good':1}, \\\n",
    "              'Season' : {'winter':0, 'spring':1, 'summer':2, 'fall':3}, \\\n",
    "              'Weather' : {'bad':0, 'good':1}, \\\n",
    "              'Weekend' : {'working':0, 'weekend':1, 'holiday':2},\n",
    "             }\n",
    "\n",
    "num_to_cat = {}\n",
    "for k1,v1 in cat_to_num.items():\n",
    "    num_to_cat[k1] = { v2 : k2 for k2, v2 in v1.items()}"
   ]
  },
  {
   "cell_type": "code",
   "execution_count": 141,
   "metadata": {},
   "outputs": [],
   "source": [
    "# select rows with missing data only\n",
    "# data[data.isnull().any(axis=1)]\n",
    "\n",
    "# get count of each combination in the data\n",
    "# data.groupby(nodes).size()\n",
    "\n",
    "# replace strings with numbers and back\n",
    "assert data.equals(data.replace(cat_to_num).replace(num_to_cat))"
   ]
  },
  {
   "cell_type": "code",
   "execution_count": 142,
   "metadata": {},
   "outputs": [],
   "source": [
    "train_mask = np.random.rand(len(data)) < 0.7\n",
    "train = data[train_mask]\n",
    "test = data[~train_mask]"
   ]
  },
  {
   "cell_type": "code",
   "execution_count": 143,
   "metadata": {},
   "outputs": [],
   "source": [
    "baseline = BayesianModel()\n",
    "baseline.add_nodes_from(nodes[1:])\n",
    "baseline.add_edges_from([\n",
    "    ('Country', 'Weather'),\n",
    "    ('Country', 'RoadCond'),\n",
    "    ('RoadCond', 'NoAccidents'),\n",
    "    ('RoadCond', 'AvgSpeed'),\n",
    "    ('NoAccidents', 'NoFatalities'),\n",
    "    ('NoAccidents', 'PoliceActivity'),\n",
    "    ('Weekend', 'NoJourneys'),\n",
    "    ('Season', 'Country'),\n",
    "    ('NoJourneys', 'RoadCond'),\n",
    "    ('Weather', 'DangerLvl'),\n",
    "])"
   ]
  },
  {
   "cell_type": "code",
   "execution_count": 144,
   "metadata": {},
   "outputs": [
    {
     "data": {
      "text/plain": [
       "-5000.655831762782"
      ]
     },
     "execution_count": 144,
     "metadata": {},
     "output_type": "execute_result"
    }
   ],
   "source": [
    "baseline.fit(train)\n",
    "BicScore(test).score(baseline)"
   ]
  },
  {
   "cell_type": "code",
   "execution_count": 145,
   "metadata": {},
   "outputs": [
    {
     "name": "stderr",
     "output_type": "stream",
     "text": [
      "WARNING:root:Replacing existing CPD for AvgSpeed\n",
      "WARNING:root:Replacing existing CPD for Country\n",
      "WARNING:root:Replacing existing CPD for DangerLvl\n",
      "WARNING:root:Replacing existing CPD for NoAccidents\n",
      "WARNING:root:Replacing existing CPD for NoFatalities\n",
      "WARNING:root:Replacing existing CPD for NoJourneys\n",
      "WARNING:root:Replacing existing CPD for PoliceActivity\n",
      "WARNING:root:Replacing existing CPD for RoadCond\n",
      "WARNING:root:Replacing existing CPD for Season\n",
      "WARNING:root:Replacing existing CPD for Weather\n",
      "WARNING:root:Replacing existing CPD for Weekend\n"
     ]
    },
    {
     "name": "stdout",
     "output_type": "stream",
     "text": [
      "-5000.655831762782\n"
     ]
    },
    {
     "name": "stderr",
     "output_type": "stream",
     "text": [
      "WARNING:root:Replacing existing CPD for AvgSpeed\n",
      "WARNING:root:Replacing existing CPD for Country\n",
      "WARNING:root:Replacing existing CPD for DangerLvl\n",
      "WARNING:root:Replacing existing CPD for NoAccidents\n",
      "WARNING:root:Replacing existing CPD for NoFatalities\n",
      "WARNING:root:Replacing existing CPD for NoJourneys\n",
      "WARNING:root:Replacing existing CPD for PoliceActivity\n",
      "WARNING:root:Replacing existing CPD for RoadCond\n",
      "WARNING:root:Replacing existing CPD for Season\n",
      "WARNING:root:Replacing existing CPD for Weather\n",
      "WARNING:root:Replacing existing CPD for Weekend\n"
     ]
    },
    {
     "name": "stdout",
     "output_type": "stream",
     "text": [
      "-5000.655831762782\n"
     ]
    },
    {
     "name": "stderr",
     "output_type": "stream",
     "text": [
      "WARNING:root:Replacing existing CPD for AvgSpeed\n",
      "WARNING:root:Replacing existing CPD for Country\n",
      "WARNING:root:Replacing existing CPD for DangerLvl\n",
      "WARNING:root:Replacing existing CPD for NoAccidents\n",
      "WARNING:root:Replacing existing CPD for NoFatalities\n",
      "WARNING:root:Replacing existing CPD for NoJourneys\n",
      "WARNING:root:Replacing existing CPD for PoliceActivity\n",
      "WARNING:root:Replacing existing CPD for RoadCond\n",
      "WARNING:root:Replacing existing CPD for Season\n",
      "WARNING:root:Replacing existing CPD for Weather\n",
      "WARNING:root:Replacing existing CPD for Weekend\n"
     ]
    },
    {
     "name": "stdout",
     "output_type": "stream",
     "text": [
      "-5000.655831762782\n"
     ]
    },
    {
     "name": "stderr",
     "output_type": "stream",
     "text": [
      "WARNING:root:Replacing existing CPD for AvgSpeed\n",
      "WARNING:root:Replacing existing CPD for Country\n",
      "WARNING:root:Replacing existing CPD for DangerLvl\n",
      "WARNING:root:Replacing existing CPD for NoAccidents\n",
      "WARNING:root:Replacing existing CPD for NoFatalities\n",
      "WARNING:root:Replacing existing CPD for NoJourneys\n",
      "WARNING:root:Replacing existing CPD for PoliceActivity\n",
      "WARNING:root:Replacing existing CPD for RoadCond\n",
      "WARNING:root:Replacing existing CPD for Season\n",
      "WARNING:root:Replacing existing CPD for Weather\n",
      "WARNING:root:Replacing existing CPD for Weekend\n"
     ]
    },
    {
     "name": "stdout",
     "output_type": "stream",
     "text": [
      "-5000.655831762782\n"
     ]
    },
    {
     "name": "stderr",
     "output_type": "stream",
     "text": [
      "WARNING:root:Replacing existing CPD for AvgSpeed\n",
      "WARNING:root:Replacing existing CPD for Country\n",
      "WARNING:root:Replacing existing CPD for DangerLvl\n",
      "WARNING:root:Replacing existing CPD for NoAccidents\n",
      "WARNING:root:Replacing existing CPD for NoFatalities\n",
      "WARNING:root:Replacing existing CPD for NoJourneys\n",
      "WARNING:root:Replacing existing CPD for PoliceActivity\n",
      "WARNING:root:Replacing existing CPD for RoadCond\n",
      "WARNING:root:Replacing existing CPD for Season\n",
      "WARNING:root:Replacing existing CPD for Weather\n",
      "WARNING:root:Replacing existing CPD for Weekend\n"
     ]
    },
    {
     "name": "stdout",
     "output_type": "stream",
     "text": [
      "-5000.655831762782\n"
     ]
    },
    {
     "name": "stderr",
     "output_type": "stream",
     "text": [
      "WARNING:root:Replacing existing CPD for AvgSpeed\n",
      "WARNING:root:Replacing existing CPD for Country\n",
      "WARNING:root:Replacing existing CPD for DangerLvl\n",
      "WARNING:root:Replacing existing CPD for NoAccidents\n",
      "WARNING:root:Replacing existing CPD for NoFatalities\n",
      "WARNING:root:Replacing existing CPD for NoJourneys\n",
      "WARNING:root:Replacing existing CPD for PoliceActivity\n",
      "WARNING:root:Replacing existing CPD for RoadCond\n",
      "WARNING:root:Replacing existing CPD for Season\n",
      "WARNING:root:Replacing existing CPD for Weather\n",
      "WARNING:root:Replacing existing CPD for Weekend\n"
     ]
    },
    {
     "name": "stdout",
     "output_type": "stream",
     "text": [
      "-5000.655831762782\n"
     ]
    },
    {
     "name": "stderr",
     "output_type": "stream",
     "text": [
      "WARNING:root:Replacing existing CPD for AvgSpeed\n",
      "WARNING:root:Replacing existing CPD for Country\n",
      "WARNING:root:Replacing existing CPD for DangerLvl\n",
      "WARNING:root:Replacing existing CPD for NoAccidents\n",
      "WARNING:root:Replacing existing CPD for NoFatalities\n",
      "WARNING:root:Replacing existing CPD for NoJourneys\n",
      "WARNING:root:Replacing existing CPD for PoliceActivity\n",
      "WARNING:root:Replacing existing CPD for RoadCond\n",
      "WARNING:root:Replacing existing CPD for Season\n",
      "WARNING:root:Replacing existing CPD for Weather\n",
      "WARNING:root:Replacing existing CPD for Weekend\n"
     ]
    },
    {
     "name": "stdout",
     "output_type": "stream",
     "text": [
      "-5000.655831762782\n"
     ]
    },
    {
     "name": "stderr",
     "output_type": "stream",
     "text": [
      "WARNING:root:Replacing existing CPD for AvgSpeed\n",
      "WARNING:root:Replacing existing CPD for Country\n",
      "WARNING:root:Replacing existing CPD for DangerLvl\n",
      "WARNING:root:Replacing existing CPD for NoAccidents\n",
      "WARNING:root:Replacing existing CPD for NoFatalities\n",
      "WARNING:root:Replacing existing CPD for NoJourneys\n",
      "WARNING:root:Replacing existing CPD for PoliceActivity\n",
      "WARNING:root:Replacing existing CPD for RoadCond\n",
      "WARNING:root:Replacing existing CPD for Season\n",
      "WARNING:root:Replacing existing CPD for Weather\n",
      "WARNING:root:Replacing existing CPD for Weekend\n"
     ]
    },
    {
     "name": "stdout",
     "output_type": "stream",
     "text": [
      "-5000.655831762782\n"
     ]
    },
    {
     "name": "stderr",
     "output_type": "stream",
     "text": [
      "WARNING:root:Replacing existing CPD for AvgSpeed\n",
      "WARNING:root:Replacing existing CPD for Country\n",
      "WARNING:root:Replacing existing CPD for DangerLvl\n",
      "WARNING:root:Replacing existing CPD for NoAccidents\n",
      "WARNING:root:Replacing existing CPD for NoFatalities\n",
      "WARNING:root:Replacing existing CPD for NoJourneys\n",
      "WARNING:root:Replacing existing CPD for PoliceActivity\n",
      "WARNING:root:Replacing existing CPD for RoadCond\n",
      "WARNING:root:Replacing existing CPD for Season\n",
      "WARNING:root:Replacing existing CPD for Weather\n",
      "WARNING:root:Replacing existing CPD for Weekend\n"
     ]
    },
    {
     "name": "stdout",
     "output_type": "stream",
     "text": [
      "-5000.655831762782\n"
     ]
    },
    {
     "name": "stderr",
     "output_type": "stream",
     "text": [
      "WARNING:root:Replacing existing CPD for AvgSpeed\n",
      "WARNING:root:Replacing existing CPD for Country\n",
      "WARNING:root:Replacing existing CPD for DangerLvl\n",
      "WARNING:root:Replacing existing CPD for NoAccidents\n",
      "WARNING:root:Replacing existing CPD for NoFatalities\n",
      "WARNING:root:Replacing existing CPD for NoJourneys\n",
      "WARNING:root:Replacing existing CPD for PoliceActivity\n",
      "WARNING:root:Replacing existing CPD for RoadCond\n",
      "WARNING:root:Replacing existing CPD for Season\n",
      "WARNING:root:Replacing existing CPD for Weather\n",
      "WARNING:root:Replacing existing CPD for Weekend\n"
     ]
    },
    {
     "name": "stdout",
     "output_type": "stream",
     "text": [
      "-5000.655831762782\n"
     ]
    }
   ],
   "source": [
    "for i in range(0, 10):\n",
    "    pred = train[train.isnull().any(axis=1)].apply(handle_missing, axis=1)\n",
    "    complete_data = pd.concat([train[~train.isnull().any(axis=1)], pred])\n",
    "    baseline.fit(complete_data)\n",
    "    print(BicScore(test).score(baseline))"
   ]
  },
  {
   "cell_type": "code",
   "execution_count": 146,
   "metadata": {},
   "outputs": [
    {
     "data": {
      "text/plain": [
       "-5000.655831762782"
      ]
     },
     "execution_count": 146,
     "metadata": {},
     "output_type": "execute_result"
    }
   ],
   "source": [
    "BicScore(test).score(baseline)"
   ]
  },
  {
   "cell_type": "code",
   "execution_count": 147,
   "metadata": {},
   "outputs": [],
   "source": [
    "join_prob = train.groupby(nodes).size() / len(train)"
   ]
  },
  {
   "cell_type": "code",
   "execution_count": 148,
   "metadata": {},
   "outputs": [
    {
     "name": "stderr",
     "output_type": "stream",
     "text": [
      "WARNING:root:Replacing existing CPD for AvgSpeed\n",
      "WARNING:root:Replacing existing CPD for Country\n",
      "WARNING:root:Replacing existing CPD for DangerLvl\n",
      "WARNING:root:Replacing existing CPD for NoAccidents\n",
      "WARNING:root:Replacing existing CPD for NoFatalities\n",
      "WARNING:root:Replacing existing CPD for NoJourneys\n",
      "WARNING:root:Replacing existing CPD for PoliceActivity\n",
      "WARNING:root:Replacing existing CPD for RoadCond\n",
      "WARNING:root:Replacing existing CPD for Season\n",
      "WARNING:root:Replacing existing CPD for Weather\n",
      "WARNING:root:Replacing existing CPD for Weekend\n"
     ]
    }
   ],
   "source": [
    "baseline.fit(train)"
   ]
  },
  {
   "cell_type": "code",
   "execution_count": 149,
   "metadata": {},
   "outputs": [
    {
     "name": "stdout",
     "output_type": "stream",
     "text": [
      "╒════════════════╤═══════════════╤════════════════╕\n",
      "│ RoadCond       │ RoadCond(bad) │ RoadCond(good) │\n",
      "├────────────────┼───────────────┼────────────────┤\n",
      "│ AvgSpeed(high) │ 0.5           │ 0.5            │\n",
      "├────────────────┼───────────────┼────────────────┤\n",
      "│ AvgSpeed(low)  │ 0.5           │ 0.5            │\n",
      "╘════════════════╧═══════════════╧════════════════╛\n",
      "╒═════════════════╤════════════════════╤════════════════════╤════════════════════╤════════════════════╕\n",
      "│ Season          │ Season(fall)       │ Season(spring)     │ Season(summer)     │ Season(winter)     │\n",
      "├─────────────────┼────────────────────┼────────────────────┼────────────────────┼────────────────────┤\n",
      "│ Country(Europe) │ 0.3333333333333333 │ 0.3333333333333333 │ 0.3333333333333333 │ 0.3333333333333333 │\n",
      "├─────────────────┼────────────────────┼────────────────────┼────────────────────┼────────────────────┤\n",
      "│ Country(UK)     │ 0.3333333333333333 │ 0.3333333333333333 │ 0.3333333333333333 │ 0.3333333333333333 │\n",
      "├─────────────────┼────────────────────┼────────────────────┼────────────────────┼────────────────────┤\n",
      "│ Country(US)     │ 0.3333333333333333 │ 0.3333333333333333 │ 0.3333333333333333 │ 0.3333333333333333 │\n",
      "╘═════════════════╧════════════════════╧════════════════════╧════════════════════╧════════════════════╛\n",
      "╒═════════════════╤══════════════╤═══════════════╕\n",
      "│ Weather         │ Weather(bad) │ Weather(good) │\n",
      "├─────────────────┼──────────────┼───────────────┤\n",
      "│ DangerLvl(high) │ 0.5          │ 0.5           │\n",
      "├─────────────────┼──────────────┼───────────────┤\n",
      "│ DangerLvl(low)  │ 0.5          │ 0.5           │\n",
      "╘═════════════════╧══════════════╧═══════════════╛\n",
      "╒═════════════════════╤════════════════════╤════════════════════╕\n",
      "│ RoadCond            │ RoadCond(bad)      │ RoadCond(good)     │\n",
      "├─────────────────────┼────────────────────┼────────────────────┤\n",
      "│ NoAccidents(high)   │ 0.3333333333333333 │ 0.3333333333333333 │\n",
      "├─────────────────────┼────────────────────┼────────────────────┤\n",
      "│ NoAccidents(low)    │ 0.3333333333333333 │ 0.3333333333333333 │\n",
      "├─────────────────────┼────────────────────┼────────────────────┤\n",
      "│ NoAccidents(medium) │ 0.3333333333333333 │ 0.3333333333333333 │\n",
      "╘═════════════════════╧════════════════════╧════════════════════╛\n",
      "╒══════════════════════╤════════════════════╤════════════════════╤═════════════════════╕\n",
      "│ NoAccidents          │ NoAccidents(high)  │ NoAccidents(low)   │ NoAccidents(medium) │\n",
      "├──────────────────────┼────────────────────┼────────────────────┼─────────────────────┤\n",
      "│ NoFatalities(high)   │ 0.3333333333333333 │ 0.3333333333333333 │ 0.3333333333333333  │\n",
      "├──────────────────────┼────────────────────┼────────────────────┼─────────────────────┤\n",
      "│ NoFatalities(low)    │ 0.3333333333333333 │ 0.3333333333333333 │ 0.3333333333333333  │\n",
      "├──────────────────────┼────────────────────┼────────────────────┼─────────────────────┤\n",
      "│ NoFatalities(medium) │ 0.3333333333333333 │ 0.3333333333333333 │ 0.3333333333333333  │\n",
      "╘══════════════════════╧════════════════════╧════════════════════╧═════════════════════╛\n",
      "╒════════════════════╤══════════════════╤══════════════════╤══════════════════╕\n",
      "│ Weekend            │ Weekend(holiday) │ Weekend(weekend) │ Weekend(working) │\n",
      "├────────────────────┼──────────────────┼──────────────────┼──────────────────┤\n",
      "│ NoJourneys(low)    │ 0.5              │ 0.5              │ 0.5              │\n",
      "├────────────────────┼──────────────────┼──────────────────┼──────────────────┤\n",
      "│ NoJourneys(medium) │ 0.5              │ 0.5              │ 0.5              │\n",
      "╘════════════════════╧══════════════════╧══════════════════╧══════════════════╛\n",
      "╒═══════════════════════════╤═══════════════════╤══════════════════╤═════════════════════╕\n",
      "│ NoAccidents               │ NoAccidents(high) │ NoAccidents(low) │ NoAccidents(medium) │\n",
      "├───────────────────────────┼───────────────────┼──────────────────┼─────────────────────┤\n",
      "│ PoliceActivity(increased) │ 0.5               │ 0.5              │ 0.5                 │\n",
      "├───────────────────────────┼───────────────────┼──────────────────┼─────────────────────┤\n",
      "│ PoliceActivity(regular)   │ 0.5               │ 0.5              │ 0.5                 │\n",
      "╘═══════════════════════════╧═══════════════════╧══════════════════╧═════════════════════╛\n",
      "╒════════════════╤═════════════════╤═════════════════════╤═════════════════════╤════════════════════╤═══════════════════╤═════════════════════╕\n",
      "│ Country        │ Country(Europe) │ Country(Europe)     │ Country(UK)         │ Country(UK)        │ Country(US)       │ Country(US)         │\n",
      "├────────────────┼─────────────────┼─────────────────────┼─────────────────────┼────────────────────┼───────────────────┼─────────────────────┤\n",
      "│ NoJourneys     │ NoJourneys(low) │ NoJourneys(medium)  │ NoJourneys(low)     │ NoJourneys(medium) │ NoJourneys(low)   │ NoJourneys(medium)  │\n",
      "├────────────────┼─────────────────┼─────────────────────┼─────────────────────┼────────────────────┼───────────────────┼─────────────────────┤\n",
      "│ RoadCond(bad)  │ 0.6609375       │ 0.39061371841155235 │ 0.6341463414634146  │ 0.4405850091407678 │ 0.618798955613577 │ 0.39010356731875717 │\n",
      "├────────────────┼─────────────────┼─────────────────────┼─────────────────────┼────────────────────┼───────────────────┼─────────────────────┤\n",
      "│ RoadCond(good) │ 0.3390625       │ 0.6093862815884477  │ 0.36585365853658536 │ 0.5594149908592322 │ 0.381201044386423 │ 0.6098964326812428  │\n",
      "╘════════════════╧═════════════════╧═════════════════════╧═════════════════════╧════════════════════╧═══════════════════╧═════════════════════╛\n",
      "╒════════════════╤══════════╕\n",
      "│ Season(fall)   │ 0.246683 │\n",
      "├────────────────┼──────────┤\n",
      "│ Season(spring) │ 0.252334 │\n",
      "├────────────────┼──────────┤\n",
      "│ Season(summer) │ 0.25258  │\n",
      "├────────────────┼──────────┤\n",
      "│ Season(winter) │ 0.248403 │\n",
      "╘════════════════╧══════════╛\n",
      "╒═══════════════╤═════════════════╤═════════════╤═════════════╕\n",
      "│ Country       │ Country(Europe) │ Country(UK) │ Country(US) │\n",
      "├───────────────┼─────────────────┼─────────────┼─────────────┤\n",
      "│ Weather(bad)  │ 0.5             │ 0.5         │ 0.5         │\n",
      "├───────────────┼─────────────────┼─────────────┼─────────────┤\n",
      "│ Weather(good) │ 0.5             │ 0.5         │ 0.5         │\n",
      "╘═══════════════╧═════════════════╧═════════════╧═════════════╛\n",
      "╒══════════════════╤═══════════╕\n",
      "│ Weekend(holiday) │ 0.0624079 │\n",
      "├──────────────────┼───────────┤\n",
      "│ Weekend(weekend) │ 0.277641  │\n",
      "├──────────────────┼───────────┤\n",
      "│ Weekend(working) │ 0.659951  │\n",
      "╘══════════════════╧═══════════╛\n"
     ]
    }
   ],
   "source": [
    "print(baseline.get_cpds('AvgSpeed'))\n",
    "print(baseline.get_cpds('Country'))\n",
    "print(baseline.get_cpds('DangerLvl'))\n",
    "print(baseline.get_cpds('NoAccidents'))\n",
    "print(baseline.get_cpds('NoFatalities'))\n",
    "print(baseline.get_cpds('NoJourneys'))\n",
    "print(baseline.get_cpds('PoliceActivity'))\n",
    "print(baseline.get_cpds('RoadCond'))\n",
    "print(baseline.get_cpds('Season'))\n",
    "print(baseline.get_cpds('Weather'))\n",
    "print(baseline.get_cpds('Weekend'))"
   ]
  },
  {
   "cell_type": "code",
   "execution_count": 150,
   "metadata": {},
   "outputs": [],
   "source": [
    "sampler = BayesianModelSampling(baseline)"
   ]
  },
  {
   "cell_type": "code",
   "execution_count": 151,
   "metadata": {},
   "outputs": [],
   "source": [
    "sample = sampler.forward_sample(10000)"
   ]
  },
  {
   "cell_type": "code",
   "execution_count": 152,
   "metadata": {},
   "outputs": [],
   "source": [
    "join_prob_model = sample.groupby(nodes).size() / len(sample)\n",
    "join_prob_model = join_prob_model.to_frame()\n",
    "join_prob_model.columns = ['model']"
   ]
  },
  {
   "cell_type": "code",
   "execution_count": 153,
   "metadata": {},
   "outputs": [],
   "source": [
    "join_prob = join_prob.to_frame()\n",
    "join_prob.columns = ['orig']"
   ]
  },
  {
   "cell_type": "code",
   "execution_count": 154,
   "metadata": {},
   "outputs": [],
   "source": [
    "to_compare = join_prob.join(join_prob_model, how='outer').fillna(0)"
   ]
  },
  {
   "cell_type": "code",
   "execution_count": 155,
   "metadata": {},
   "outputs": [
    {
     "data": {
      "text/plain": [
       "inf"
      ]
     },
     "execution_count": 155,
     "metadata": {},
     "output_type": "execute_result"
    }
   ],
   "source": [
    "entropy(to_compare.model, to_compare.orig)"
   ]
  },
  {
   "cell_type": "code",
   "execution_count": 156,
   "metadata": {},
   "outputs": [
    {
     "name": "stderr",
     "output_type": "stream",
     "text": [
      "WARNING:root:Replacing existing CPD for AvgSpeed\n",
      "WARNING:root:Replacing existing CPD for Country\n",
      "WARNING:root:Replacing existing CPD for DangerLvl\n",
      "WARNING:root:Replacing existing CPD for NoAccidents\n",
      "WARNING:root:Replacing existing CPD for NoFatalities\n",
      "WARNING:root:Replacing existing CPD for NoJourneys\n",
      "WARNING:root:Replacing existing CPD for PoliceActivity\n",
      "WARNING:root:Replacing existing CPD for RoadCond\n",
      "WARNING:root:Replacing existing CPD for Season\n",
      "WARNING:root:Replacing existing CPD for Weather\n",
      "WARNING:root:Replacing existing CPD for Weekend\n"
     ]
    }
   ],
   "source": [
    "hc = HillClimbSearch(train.replace(cat_to_num))\n",
    "localMax = hc.estimate(start=baseline.copy())\n",
    "localMax.fit(train.replace(cat_to_num))"
   ]
  },
  {
   "cell_type": "code",
   "execution_count": 157,
   "metadata": {},
   "outputs": [
    {
     "data": {
      "text/plain": [
       "-1232.9908713561385"
      ]
     },
     "execution_count": 157,
     "metadata": {},
     "output_type": "execute_result"
    }
   ],
   "source": [
    "BicScore(test).score(localMax)"
   ]
  },
  {
   "cell_type": "code",
   "execution_count": 163,
   "metadata": {},
   "outputs": [],
   "source": [
    "writer = BIFWriter(localMax)\n",
    "writer.write_bif(filename='model.bif')"
   ]
  },
  {
   "cell_type": "code",
   "execution_count": null,
   "metadata": {},
   "outputs": [],
   "source": []
  }
 ],
 "metadata": {
  "kernelspec": {
   "display_name": "Python 3",
   "language": "python",
   "name": "python3"
  },
  "language_info": {
   "codemirror_mode": {
    "name": "ipython",
    "version": 3
   },
   "file_extension": ".py",
   "mimetype": "text/x-python",
   "name": "python",
   "nbconvert_exporter": "python",
   "pygments_lexer": "ipython3",
   "version": "3.6.4"
  }
 },
 "nbformat": 4,
 "nbformat_minor": 2
}
