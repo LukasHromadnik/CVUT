{
 "cells": [
  {
   "cell_type": "markdown",
   "metadata": {
    "collapsed": true
   },
   "source": [
    "Let's create a clause and see what is inside"
   ]
  },
  {
   "cell_type": "code",
   "execution_count": 1,
   "metadata": {},
   "outputs": [],
   "source": [
    "from logic import *\n",
    "from dataset import InterpretationDataset"
   ]
  },
  {
   "cell_type": "code",
   "execution_count": 2,
   "metadata": {},
   "outputs": [
    {
     "name": "stdout",
     "output_type": "stream",
     "text": [
      "clause !human(socrates) | !human(sonOf(Y)) | !sibling(socrates, Y) | mortal(Y).\n",
      "ground literal !human(socrates) contains following arguments\n",
      "\t0-th argument:\tsocrates\n",
      "non-ground literal !sibling(socrates, Y) contains following arguments\n",
      "\t0-th argument:\tsocrates\n",
      "\t1-th argument:\tY\n",
      "non-ground literal !human(sonOf(Y)) contains following arguments\n",
      "\t0-th argument:\tsonOf(Y)\n",
      "non-ground literal mortal(Y) contains following arguments\n",
      "\t0-th argument:\tY\n"
     ]
    }
   ],
   "source": [
    "clause = Clause.parse(\"!human(socrates),!sibling(socrates,Y),!human(sonOf(Y)),mortal(Y)\")\n",
    "\n",
    "print(\"clause {}\".format(clause))\n",
    "\n",
    "for literal in clause:\n",
    "    print(\"{}ground literal {} contains following arguments\".format(\"\" if literal.isGround() else \"non-\", literal))\n",
    "    for term, idx in zip(literal, range(0, len(literal))):\n",
    "        print(\"\\t{}-th argument:\\t{}\".format(idx, term))"
   ]
  },
  {
   "cell_type": "markdown",
   "metadata": {},
   "source": [
    "Let's see how to go throught a datset of interpretations."
   ]
  },
  {
   "cell_type": "code",
   "execution_count": 6,
   "metadata": {},
   "outputs": [
    {
     "ename": "JavaException",
     "evalue": "JVM exception occurred: ./data/lectureGraphs (No such file or directory)",
     "output_type": "error",
     "traceback": [
      "\u001b[0;31m---------------------------------------------------------------------------\u001b[0m",
      "\u001b[0;31mJavaException\u001b[0m                             Traceback (most recent call last)",
      "\u001b[0;32m<ipython-input-6-cd8f80980ee6>\u001b[0m in \u001b[0;36m<module>\u001b[0;34m()\u001b[0m\n\u001b[0;32m----> 1\u001b[0;31m \u001b[0mdata\u001b[0m \u001b[0;34m=\u001b[0m \u001b[0mInterpretationDataset\u001b[0m\u001b[0;34m(\u001b[0m\u001b[0mos\u001b[0m\u001b[0;34m.\u001b[0m\u001b[0mpath\u001b[0m\u001b[0;34m.\u001b[0m\u001b[0msep\u001b[0m\u001b[0;34m.\u001b[0m\u001b[0mjoin\u001b[0m\u001b[0;34m(\u001b[0m\u001b[0;34m[\u001b[0m\u001b[0;34m'.'\u001b[0m\u001b[0;34m,\u001b[0m\u001b[0;34m'data'\u001b[0m\u001b[0;34m,\u001b[0m\u001b[0;34m'lectureGraphs'\u001b[0m\u001b[0;34m]\u001b[0m\u001b[0;34m)\u001b[0m\u001b[0;34m)\u001b[0m\u001b[0;34m\u001b[0m\u001b[0m\n\u001b[0m",
      "\u001b[0;32m~/Downloads/02 ILP/dataset.py\u001b[0m in \u001b[0;36m__init__\u001b[0;34m(self, path)\u001b[0m\n\u001b[1;32m     72\u001b[0m \u001b[0;34m\u001b[0m\u001b[0m\n\u001b[1;32m     73\u001b[0m     \u001b[0;32mdef\u001b[0m \u001b[0m__init__\u001b[0m\u001b[0;34m(\u001b[0m\u001b[0mself\u001b[0m\u001b[0;34m,\u001b[0m \u001b[0mpath\u001b[0m\u001b[0;34m:\u001b[0m \u001b[0mstr\u001b[0m\u001b[0;34m)\u001b[0m\u001b[0;34m:\u001b[0m\u001b[0;34m\u001b[0m\u001b[0m\n\u001b[0;32m---> 74\u001b[0;31m         \u001b[0mmed\u001b[0m \u001b[0;34m=\u001b[0m \u001b[0mJSMU\u001b[0m\u001b[0;34m.\u001b[0m\u001b[0mloadMED\u001b[0m\u001b[0;34m(\u001b[0m\u001b[0mtools\u001b[0m\u001b[0;34m.\u001b[0m\u001b[0mtoBytes\u001b[0m\u001b[0;34m(\u001b[0m\u001b[0mpath\u001b[0m\u001b[0;34m)\u001b[0m\u001b[0;34m,\u001b[0m \u001b[0mJMatching\u001b[0m\u001b[0;34m.\u001b[0m\u001b[0mTHETA_SUBSUMPTION\u001b[0m\u001b[0;34m)\u001b[0m\u001b[0;34m\u001b[0m\u001b[0m\n\u001b[0m\u001b[1;32m     75\u001b[0m \u001b[0;34m\u001b[0m\u001b[0m\n\u001b[1;32m     76\u001b[0m         \u001b[0mtargets\u001b[0m \u001b[0;34m=\u001b[0m \u001b[0mmed\u001b[0m\u001b[0;34m.\u001b[0m\u001b[0mgetTargets\u001b[0m\u001b[0;34m(\u001b[0m\u001b[0;34m)\u001b[0m\u001b[0;34m\u001b[0m\u001b[0m\n",
      "\u001b[0;32mjnius/jnius_export_class.pxi\u001b[0m in \u001b[0;36mjnius.JavaMethod.__call__\u001b[0;34m()\u001b[0m\n",
      "\u001b[0;32mjnius/jnius_export_class.pxi\u001b[0m in \u001b[0;36mjnius.JavaMethod.call_staticmethod\u001b[0;34m()\u001b[0m\n",
      "\u001b[0;32mjnius/jnius_utils.pxi\u001b[0m in \u001b[0;36mjnius.check_exception\u001b[0;34m()\u001b[0m\n",
      "\u001b[0;31mJavaException\u001b[0m: JVM exception occurred: ./data/lectureGraphs (No such file or directory)"
     ]
    }
   ],
   "source": [
    "data = InterpretationDataset(os.path.sep.join(['.','data','lectureGraphs']))"
   ]
  },
  {
   "cell_type": "code",
   "execution_count": null,
   "metadata": {},
   "outputs": [],
   "source": [
    "for sample in data:\n",
    "    print(sample)"
   ]
  },
  {
   "cell_type": "markdown",
   "metadata": {},
   "source": [
    "Each sample, i.e. observation, consists of a class, e.g. pos/neg, and a set of atoms which holds. Their are easily accesible."
   ]
  },
  {
   "cell_type": "code",
   "execution_count": null,
   "metadata": {},
   "outputs": [],
   "source": [
    "sample = tuple(data)[0]\n",
    "print('class of this sample is\\t{}'.format(\"pos\" if sample.positiveClass else \"neg\"))\n",
    "print('the sample contains following facts')\n",
    "for atom in sample:\n",
    "    print(\"\\t{}\".format(atom))"
   ]
  },
  {
   "cell_type": "markdown",
   "metadata": {},
   "source": [
    "Keep in mind that two expressions even parsed by the same process are not the same instance, thus 'is' comparator does not return what is probably expected from the first sight. Therefore, it is advised to use \"==\" comparator. See following examples and compare the output to what you expect."
   ]
  },
  {
   "cell_type": "code",
   "execution_count": 7,
   "metadata": {},
   "outputs": [
    {
     "name": "stdout",
     "output_type": "stream",
     "text": [
      "False\n",
      "True\n",
      "X\tvs\tX\n",
      "\tFalse\n",
      "\tTrue\n",
      "a\tvs\ta\n",
      "\tFalse\n",
      "\tTrue\n"
     ]
    }
   ],
   "source": [
    "c1 = Clause.parse(\"p(X,a)\")\n",
    "c2 = Clause.parse(\"p(X,a)\")\n",
    "\n",
    "print(c1 is c2)\n",
    "print(c1 == c2)\n",
    "\n",
    "for t1, t2 in zip(c1.literals[0].atom.terms, c2.literals[0].atom.terms):\n",
    "    print(\"{}\\tvs\\t{}\".format(t1, t2))\n",
    "    print(\"\\t{}\".format(t1 is t2))\n",
    "    print(\"\\t{}\".format(t1 == t2))"
   ]
  },
  {
   "cell_type": "markdown",
   "metadata": {},
   "source": [
    "Despite the fact that two clauses are logically equal, they are not equal by the \"==\" operator. The operator is implemented by lexical comparison only."
   ]
  },
  {
   "cell_type": "code",
   "execution_count": null,
   "metadata": {},
   "outputs": [],
   "source": [
    "c3 = Clause.parse(\"p(X,Y)\")\n",
    "c4 = Clause.parse(\"p(Z,W)\")\n",
    "print(c3 == c4)"
   ]
  },
  {
   "cell_type": "markdown",
   "metadata": {},
   "source": [
    "The easiest way to apply a substitution to a clause is to create a substitution, i.e. a dictionary of terms indexed by variables. "
   ]
  },
  {
   "cell_type": "code",
   "execution_count": 8,
   "metadata": {},
   "outputs": [
    {
     "name": "stdout",
     "output_type": "stream",
     "text": [
      "siblings(issac, kain, X, W).\n"
     ]
    }
   ],
   "source": [
    "c5 = Clause.parse(\"siblings(X,Y,Z,W)\")\n",
    "x = Variable(\"X\")\n",
    "y = Variable(\"Y\")\n",
    "z = Variable(\"Z\")\n",
    "issac = Constant(\"issac\")\n",
    "kain = Constant(\"kain\")\n",
    "substitution = {x : issac, y : kain, z : x}\n",
    "substitutedClause = c5.substitute(substitution)\n",
    "print(substitutedClause)"
   ]
  },
  {
   "cell_type": "markdown",
   "metadata": {},
   "source": [
    "Note here one important thing. The substituted clause should look, by the definition of substitution in FOL, as sibling(issac, kain, issac, W). However, this library supports, and also expects, flat substitutions only. Therefore, no chaning is applied during the substitution process, e.g. the result is siblings(issac,kain,X,W) since no chaning {Z -> X, X -> issac} is done. If you want such behavior, then flatten the substitution first, e.g. {Z -> issac, X -> issac}. However, in our tutorials, we do not need such functionality."
   ]
  }
 ],
 "metadata": {
  "kernelspec": {
   "display_name": "Python 3",
   "language": "python",
   "name": "python3"
  },
  "language_info": {
   "codemirror_mode": {
    "name": "ipython",
    "version": 3
   },
   "file_extension": ".py",
   "mimetype": "text/x-python",
   "name": "python",
   "nbconvert_exporter": "python",
   "pygments_lexer": "ipython3",
   "version": "3.6.4"
  }
 },
 "nbformat": 4,
 "nbformat_minor": 1
}
