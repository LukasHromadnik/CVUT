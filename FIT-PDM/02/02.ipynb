{
 "cells": [
  {
   "cell_type": "markdown",
   "metadata": {},
   "source": [
    "# Úkol č. 2 - Segmentace zákazníků e-shopu\n",
    "\n",
    "Jednou z důležitých aplikací shlukování je **segmentace zákazníků** (angl. **customer segmentation**). \n",
    "\n",
    "Předpokládejme, že máme následující obchodní údaje o prodejích (resp. nákupech z pohledu zákazníků):\n",
    "TransactionID - ID nákupu,\n",
    "CustomerID - ID zákazníka, \n",
    "Date - datum nákupu, \n",
    "Total - celková cena nákupu.\n",
    "\n",
    "Chceme najít segmenty zákazníků, kteří se chovají podobně. K tomu je dobré informace z jednotlivých nákupů pro individuální zákazníky agregovat. Tj. získat pro každého zákazníka jeden řádek.\n",
    "\n",
    "Populárním přístupem je **RFM**, což znamená:\n",
    "\n",
    "- **R**ecency: Počet dnů od posledního nákupu (poslední datum v datasetu pro daného zákazníka)\n",
    "- **F**requency: Počet nákupů. Občas se vynechávají zákazníci s jediným nákupem. Pro jednoduchost je zde ale necháme.\n",
    "- **M**onetary: Celková suma, kterou daný zákazník utratil.\n",
    "\n",
    "## Zdroj dat\n",
    "Budeme pracovat s daty z jednoho (skoro) vymyšleného eshopu:"
   ]
  },
  {
   "cell_type": "code",
   "execution_count": null,
   "metadata": {},
   "outputs": [],
   "source": [
    "import pandas as pd\n",
    "import numpy as np\n",
    "import matplotlib.pyplot as plt\n",
    "from mpl_toolkits import mplot3d\n",
    "%matplotlib notebook\n",
    "\n",
    "from sklearn.cluster import KMeans\n",
    "from sklearn.preprocessing import StandardScaler\n",
    "from sklearn.preprocessing import MinMaxScaler\n",
    "\n",
    "from scipy.cluster.hierarchy import dendrogram, linkage, fcluster"
   ]
  },
  {
   "cell_type": "code",
   "execution_count": null,
   "metadata": {},
   "outputs": [],
   "source": [
    "df = pd.read_csv(\"eshop.csv\", encoding=\"utf-8\")\n",
    "df[\"Date\"] = pd.to_datetime(df[\"Date\"], format=\"%m/%d/%Y\")"
   ]
  },
  {
   "cell_type": "markdown",
   "metadata": {},
   "source": [
    "## Pokyny k vypracování\n",
    "\n",
    "**Základní body zadání**, za jejichž (poctivé) vypracování získáte **10 bodů**:\n",
    "- Vytvořte `rfm` data frame, kde každý řádek odpovídá jednomu zákazníkovi a sloupce (příznaky) jsou uvedené výše.\n",
    "- Pomocí algoritmu `K-means` proveďte shlukování. Nějakým způsobem také odhadněte nejlepší počet shluků (podrobně vysvětlete).\n",
    "- Zabývejte se vlivem přeškálování dat (standardizace příznaků). Tj. určete, zda je přeškálování vhodné, a proveďte ho.\n",
    "- Interpretujte jednotlivé shluky. Použijte získané shluky k odlišení \"superstar\" zákazníků (vysoká monetary, vysoká frequency a nízká recency) od nezajímavých  zákazníků (vysoká recency, nízká frequency, nízká monetary).\n",
    "\n",
    "**Další body zadání** za případné další body  (můžete si vybrat, maximum bodů za úkol je každopádně 15 bodů):\n",
    "- (až +5 bodů) Proveďte analýzu vytvořených shluků pomocí metody silhouette (https://en.wikipedia.org/wiki/Silhouette_(clustering)).\n",
    "- (až +5 bodů) Zkuste provést to samé s modifikovanou verzí **RFM**, kde Recency = \"maximum počtu měsíců od posledního nákupu a čísla 1\", Frequency = \"maximum počtu nákupů daného zákazníka v posledních 12 měsících (vztaženo k prosinci 2015) a čísla 1\", Monetary = \"Nejvyšší hodnota nákupu daného zákazníka\". Porovnejte s původním přístupem.\n",
    "\n",
    "## Poznámky k odevzdání\n",
    "\n",
    "  * Řiďte se pokyny ze stránky https://courses.fit.cvut.cz/MI-PDM/homeworks/index.html.\n",
    "  * Odevzdejte Jupyter Notebook.\n",
    "  * Opravující Vám může umožnit úkol dodělat či opravit a získat tak další body. První verze je ale důležitá a bude-li odbytá, budete za to penalizováni\n"
   ]
  },
  {
   "cell_type": "code",
   "execution_count": null,
   "metadata": {},
   "outputs": [],
   "source": [
    "def fancy_dendrogram(*args, **kwargs):\n",
    "    max_d = kwargs.pop('max_d', None)\n",
    "    if max_d and 'color_threshold' not in kwargs:\n",
    "        kwargs['color_threshold'] = max_d\n",
    "    annotate_above = kwargs.pop('annotate_above', 0)\n",
    "\n",
    "    ddata = dendrogram(*args, **kwargs)\n",
    "\n",
    "    if not kwargs.get('no_plot', False):\n",
    "        plt.title('Dendrogram hierarchického shlukování (oříznutý)')\n",
    "        plt.xlabel('index bodu nebo (velikost shluku)')\n",
    "        plt.ylabel('vzdálenost')\n",
    "        for i, d, c in zip(ddata['icoord'], ddata['dcoord'], ddata['color_list']):\n",
    "            x = 0.5 * sum(i[1:3])\n",
    "            y = d[1]\n",
    "            if y > annotate_above:\n",
    "                plt.plot(x, y, 'o', c=c)\n",
    "                plt.annotate(\"%.3g\" % y, (x, y), xytext=(0, -5),\n",
    "                             textcoords='offset points',\n",
    "                             va='top', ha='center')\n",
    "        if max_d:\n",
    "            plt.axhline(y=max_d, c='k')\n",
    "    return ddata"
   ]
  },
  {
   "cell_type": "code",
   "execution_count": null,
   "metadata": {},
   "outputs": [],
   "source": [
    "def plot3D(X, colors=None, show=True):\n",
    "    plt.figure(figsize=(9, 9))\n",
    "    ax = plt.axes(projection='3d')\n",
    "    ax.scatter(X.iloc[:,0], X.iloc[:,1], X.iloc[:,2], c=colors)\n",
    "    ax.set_xlabel(X.columns[0])\n",
    "    ax.set_ylabel(X.columns[1])\n",
    "    ax.set_zlabel(X.columns[2])\n",
    "    if show:\n",
    "        plt.show()\n",
    "    return plt, ax"
   ]
  },
  {
   "cell_type": "code",
   "execution_count": null,
   "metadata": {},
   "outputs": [],
   "source": [
    "def plot_dendrogram(data, p):\n",
    "    plt.figure(figsize=(9, 9))\n",
    "    plt.title('Dendrogram hierarchického shlukování')\n",
    "    plt.xlabel('index bodu')\n",
    "    plt.ylabel('vzdálenost')\n",
    "\n",
    "    fancy_dendrogram(\n",
    "        Z,\n",
    "        truncate_mode='lastp',\n",
    "        p=p,\n",
    "        leaf_rotation=90.,\n",
    "        leaf_font_size=12.,\n",
    "        show_contracted=True\n",
    "    )\n",
    "    plt.show()"
   ]
  },
  {
   "cell_type": "markdown",
   "metadata": {},
   "source": [
    "# Řešení\n",
    "## RFM"
   ]
  },
  {
   "cell_type": "code",
   "execution_count": null,
   "metadata": {
    "scrolled": false
   },
   "outputs": [],
   "source": [
    "today = pd.to_datetime('today')\n",
    "last_date = df.groupby(\"Customer ID\")[\"Date\"].max()\n",
    "\n",
    "recency = (today - last_date).dt.days\n",
    "frequency = df.groupby(\"Customer ID\").size()\n",
    "monetary = df.groupby(\"Customer ID\")[\"Subtotal\"].sum()\n",
    "\n",
    "# X = rfm\n",
    "X = pd.concat([recency, frequency, monetary], axis=1)\n",
    "X.columns = [\"Recency\", \"Frequency\", \"Monetary\"]\n",
    "\n",
    "plot3D(X);"
   ]
  },
  {
   "cell_type": "markdown",
   "metadata": {},
   "source": [
    "## Hledání optimálního počtu shluků\n",
    "### Dendrogram"
   ]
  },
  {
   "cell_type": "code",
   "execution_count": null,
   "metadata": {
    "scrolled": false
   },
   "outputs": [],
   "source": [
    "Z = linkage(X, 'single')\n",
    "plot_dendrogram(Z, 15)"
   ]
  },
  {
   "cell_type": "markdown",
   "metadata": {},
   "source": [
    "Podle dendrogramu začíná k oddělení shluků ve vzdálenosti 893. Touto hodnotou získáme 3 shluky. Toto rozdělení však není dobré, protože dva shluky budou každý obsahovat po jednom bodu a zbytek bodů bude obsažen v prvním shluku."
   ]
  },
  {
   "cell_type": "code",
   "execution_count": null,
   "metadata": {
    "scrolled": false
   },
   "outputs": [],
   "source": [
    "max_d = 900\n",
    "clusters = fcluster(Z, max_d, criterion='distance')\n",
    "\n",
    "# Počet clusterů podle max_d\n",
    "n_clusters = np.unique(clusters, return_counts=False).size\n",
    "print(\"Počet clusterů pro max_d =\", max_d, \": \", n_clusters)\n",
    "\n",
    "# Vizualizace\n",
    "plot3D(X, clusters);"
   ]
  },
  {
   "cell_type": "markdown",
   "metadata": {},
   "source": [
    "## Účelová funkce"
   ]
  },
  {
   "cell_type": "code",
   "execution_count": null,
   "metadata": {},
   "outputs": [],
   "source": [
    "max_clusters = 20\n",
    "ix = np.zeros(max_clusters)\n",
    "iy = np.zeros(max_clusters)\n",
    "for k in range(ix.shape[0]):\n",
    "    kmeans = KMeans(n_clusters=k + 1, random_state=1)\n",
    "    kmeans.fit(X)\n",
    "    iy[k] = kmeans.inertia_\n",
    "    ix[k] = k+1\n",
    "plt.figure(figsize=(7,7))\n",
    "plt.xlabel('$k$')\n",
    "plt.ylabel('Účelová funkce')\n",
    "plt.plot(ix, iy, 'o-')\n",
    "plt.show();"
   ]
  },
  {
   "cell_type": "markdown",
   "metadata": {},
   "source": [
    "Z grafu účelové funkce není na první pohled hned jasné, kolik shluků je dobré vybrat. Dle mého uvážení je největší zlom v grafu pro hodnotu $k$ = 4."
   ]
  },
  {
   "cell_type": "markdown",
   "metadata": {},
   "source": [
    "## K-Means\n",
    "\n",
    "Počet shluků jsem vybral na výsledku z grafu účelové funkce."
   ]
  },
  {
   "cell_type": "code",
   "execution_count": null,
   "metadata": {
    "scrolled": false
   },
   "outputs": [],
   "source": [
    "n_clusters = 4\n",
    "kmeans = KMeans(n_clusters=n_clusters, max_iter=1000)\n",
    "kmeans.fit(X)\n",
    "centroids = kmeans.cluster_centers_\n",
    "\n",
    "plot, ax = plot3D(X, kmeans.labels_, show=False)\n",
    "\n",
    "ax.set_xlabel(X.columns[0])\n",
    "ax.set_ylabel(X.columns[1])\n",
    "ax.set_zlabel(X.columns[2])\n",
    "plot.show()"
   ]
  },
  {
   "cell_type": "markdown",
   "metadata": {},
   "source": [
    "## Standardizace\n",
    "\n",
    "Standardizace je zapotřebí, protože jednotlivé příznaky mají velké rozdíly mezi jejich hodnotami."
   ]
  },
  {
   "cell_type": "code",
   "execution_count": null,
   "metadata": {},
   "outputs": [],
   "source": [
    "scaled = X.values\n",
    "# Standardizace\n",
    "scaled = StandardScaler().fit_transform(scaled)\n",
    "# Normalizace\n",
    "# scaled = MinMaxScaler().fit_transform(scaled)\n",
    "X_scaled = pd.DataFrame(scaled, columns=X.columns)\n",
    "\n",
    "plot3D(X_scaled);"
   ]
  },
  {
   "cell_type": "code",
   "execution_count": null,
   "metadata": {},
   "outputs": [],
   "source": [
    "Z = linkage(X_scaled, 'single')\n",
    "plot_dendrogram(Z, p=10);"
   ]
  },
  {
   "cell_type": "markdown",
   "metadata": {},
   "source": [
    "Zobrazení standardizovaného datasetu s využitím dendrogramu. Spodní graf má zobrazeny i uměle vybrány zajímavé zákazníky."
   ]
  },
  {
   "cell_type": "code",
   "execution_count": null,
   "metadata": {},
   "outputs": [],
   "source": [
    "max_d = 2\n",
    "clusters = fcluster(Z, max_d, criterion='distance')\n",
    "\n",
    "# Počet clusterů podle max_d\n",
    "n_clusters = np.unique(clusters, return_counts=False).size\n",
    "print(\"Počet clusterů pro max_d =\", max_d, \": \", n_clusters)\n",
    "\n",
    "# Vizualizace\n",
    "plot3D(X_scaled, colors=clusters)\n",
    "\n",
    "plot, ax = plot3D(X_scaled, colors=clusters, show=False);\n",
    "\n",
    "# Zajímaví zákazníci\n",
    "a = X_scaled\n",
    "a = a[a[\"Recency\"] <= 0]\n",
    "a = a[a[\"Frequency\"] >= 5]\n",
    "a = a[a[\"Monetary\"] >= 5]\n",
    "\n",
    "ax.scatter(a.iloc[:,0], a.iloc[:,1], a.iloc[:,2], c=\"r\")\n",
    "plot.show();"
   ]
  },
  {
   "cell_type": "code",
   "execution_count": null,
   "metadata": {},
   "outputs": [],
   "source": [
    "max_clusters = 20\n",
    "ix = []\n",
    "iy = []\n",
    "for k in range(max_clusters):\n",
    "    if k % 3 != 0: continue\n",
    "    kmeans = KMeans(n_clusters=k + 1, random_state=1)\n",
    "    kmeans.fit(X_scaled)\n",
    "    iy.append(kmeans.inertia_)\n",
    "    ix.append(k + 1)\n",
    "plt.figure(\"Závislost účelové funkce na počtu clusterů\", figsize=(7,7))\n",
    "plt.xlabel('$k$')\n",
    "plt.ylabel('Účelová funkce')\n",
    "plt.plot(ix, iy, 'o-')\n",
    "plt.show()"
   ]
  },
  {
   "cell_type": "markdown",
   "metadata": {},
   "source": [
    "Zobrazení standardizovaného datasetu s využitím účelové funkce. Spodní graf má zobrazeny i uměle vybrány zajímavé zákazníky."
   ]
  },
  {
   "cell_type": "code",
   "execution_count": null,
   "metadata": {
    "scrolled": false
   },
   "outputs": [],
   "source": [
    "n_clusters = 4\n",
    "kmeans = KMeans(n_clusters=n_clusters, max_iter=1000)\n",
    "kmeans.fit(X_scaled);\n",
    "centroids = kmeans.cluster_centers_\n",
    "\n",
    "plot3D(X_scaled, colors=kmeans.labels_)\n",
    "\n",
    "plot, ax = plot3D(X_scaled, colors=kmeans.labels_, show=False)\n",
    "\n",
    "# Zajímaví zákazníci\n",
    "a = X_scaled\n",
    "a = a[a[\"Recency\"] <= 0]\n",
    "a = a[a[\"Frequency\"] >= 5]\n",
    "a = a[a[\"Monetary\"] >= 5]\n",
    "\n",
    "ax.scatter(a.iloc[:,0], a.iloc[:,1], a.iloc[:,2], c=\"r\")\n",
    "plot.show()"
   ]
  },
  {
   "cell_type": "markdown",
   "metadata": {},
   "source": [
    "Jednotlivé shluky se dle mého názoru nedají označit za správné shluky, jelikož jednotlivé body datasetu nebyly vytvořeny dle určitého pravděpodobnostního rozdělení. Jediný zajímavý shluk je ten, který má největší průnik s uměle vybraný zajímavý zákazníky. Tento shluk nejpravděpodobněji obsahuje zajímavé zákazníky."
   ]
  }
 ],
 "metadata": {
  "kernelspec": {
   "display_name": "Python 3",
   "language": "python",
   "name": "python3"
  },
  "language_info": {
   "codemirror_mode": {
    "name": "ipython",
    "version": 3
   },
   "file_extension": ".py",
   "mimetype": "text/x-python",
   "name": "python",
   "nbconvert_exporter": "python",
   "pygments_lexer": "ipython3",
   "version": "3.7.2"
  }
 },
 "nbformat": 4,
 "nbformat_minor": 2
}
