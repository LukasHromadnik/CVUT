{
 "cells": [
  {
   "cell_type": "markdown",
   "metadata": {},
   "source": [
    "# Úkol č. 1 - vizualizace dat a web scraping\n",
    "\n",
    "  * V rámci tohoto úkolu musíte opanovat nástroje pro stahování dat z webu (tzv. _web scraping_) a následně data zpracovat a vizualizovat. \n",
    "  * Vaším úkolem bude stáhnout a zpracovat data týkající se kandidátů v minulých volbách do Evropského parlamentu.\n",
    "  \n",
    "> **Úkoly jsou zadány tak, aby Vám daly prostor pro invenci. Vymyslet _jak přesně_ budete úkol řešit, je důležitou součástí zadání a originalita či nápaditost bude také hodnocena!**\n",
    "\n",
    "## Zdroje dat\n",
    "\n",
    "  * Primárním zdrojem dat je tato tabulka: https://volby.cz/pls/ep2014/ep2111?xjazyk=CZ&xv=1&xt=2&xstrana=0\n",
    "\n",
    "## Pokyny k vypracování\n",
    "\n",
    "**Základní body zadání**, za jejichž (poctivé) vypracování získáte **10 bodů**:\n",
    "  * Stáhněte data z výše uvedeného a uložte je do tabulky ve formátu _csv_.\n",
    "  * S využitím vybraných nástrojů zpracujte data a vymyslete vizualizace a grafy, aby bylo vidět následující:\n",
    "    * Věkovou skladbu kandidátů a kandidátek jednotlivých stran.\n",
    "    * Vzdělanostní skladbu kadidátů a kadidátek jednotlivých stran: pokuste se z titulů odhadnout \n",
    "    * Žebříčky nejůspěšňějších kandidátů a kandidátek (zaměřte se na preferenční hlasy a nějak zvažte jejich váhu vzhledem k počtu hlasů strany samotné).\n",
    "    * Pokuste se odhadnout počty žen kandidujících za jednotlivé strany.\n",
    "\n",
    "**Další body zadání** za případné další body (můžete si vybrat, maximum bodů za úkol je každopádně 15 bodů):\n",
    "  * (až +4 body) Najděte nějaký nástroj, který Vám umožní do notebooku přidat nějaké interaktivní prvky (např. si uživatel vybere ze seznamu stranu a notebook automaticky zobrazí vizualizace pouze vybraných kandidátů)\n",
    "  * (až +4 body) Zpracujte i data z předešlých voleb do EP z roku 2009 a identifikujte kandidáty a kandidátky, kteří kandidovaly v obou volbách. I toto zkuste nějak rozumně vizualizovat.\n",
    "  \n",
    "## Poznámky k odevzdání\n",
    "\n",
    "  * Řiďte se pokyny ze stránky https://courses.fit.cvut.cz/MI-PDM/homeworks/index.html.\n",
    "  * Opravující Vám může umožnit úkol dodělat či opravit a získat tak další body. První verze je ale důležitá a bude-li odbytá, budete za to penalizováni."
   ]
  },
  {
   "cell_type": "markdown",
   "metadata": {},
   "source": [
    "## 01 Načtení dat"
   ]
  },
  {
   "cell_type": "code",
   "execution_count": null,
   "metadata": {},
   "outputs": [],
   "source": [
    "import requests\n",
    "import csv\n",
    "from bs4 import BeautifulSoup\n",
    "\n",
    "url = \"https://volby.cz/pls/ep2014/ep2111?xjazyk=CZ&xv=1&xt=2&xstrana=0\"\n",
    "response = requests.get(url)\n",
    "\n",
    "soup = BeautifulSoup(response.text, \"html.parser\")\n",
    "table = soup.find(\"table\")\n",
    "rows = []\n",
    "\n",
    "headers = [\n",
    "    \"CandidateListID\",\n",
    "    \"CandidateListName\",\n",
    "    \"CandidateOrder\",\n",
    "    \"CandidateName\",\n",
    "    \"CandidateAge\",\n",
    "    \"FilingParty\",\n",
    "    \"PoliticalAffiliation\",\n",
    "    \"PreferentialVotesAbs\",\n",
    "    \"PreferentialVotesPercentage\",\n",
    "    \"Mandate\",\n",
    "    \"Order\"\n",
    "]\n",
    "\n",
    "for row in table.findAll(\"tr\"):\n",
    "    cells = []\n",
    "    \n",
    "    for cell in row.findAll(\"td\"):\n",
    "        text = cell.text.replace(\",\", \".\")\n",
    "        cells.append(text)\n",
    "    \n",
    "    rows.append(cells)\n",
    "\n",
    "with open(\"volby.csv\", \"w\", encoding=\"utf-8\") as output:\n",
    "    output.write(\",\".join(headers))\n",
    "    output.write(\"\\n\")\n",
    "    for row in rows:\n",
    "        if not row:\n",
    "            continue\n",
    "        output.write(\",\".join(row))\n",
    "        output.write(\"\\n\")"
   ]
  },
  {
   "cell_type": "code",
   "execution_count": null,
   "metadata": {},
   "outputs": [],
   "source": [
    "import matplotlib.pyplot as plt\n",
    "import matplotlib\n",
    "%matplotlib inline \n",
    "matplotlib.style.use('ggplot')"
   ]
  },
  {
   "cell_type": "code",
   "execution_count": null,
   "metadata": {},
   "outputs": [],
   "source": [
    "import pandas as pd\n",
    "\n",
    "data = pd.read_csv(\"volby.csv\", encoding=\"utf-8\")"
   ]
  },
  {
   "cell_type": "markdown",
   "metadata": {},
   "source": [
    "## 02 Věková skladba kandidátů"
   ]
  },
  {
   "cell_type": "code",
   "execution_count": null,
   "metadata": {},
   "outputs": [],
   "source": [
    "data[\"CandidateAge\"].hist();"
   ]
  },
  {
   "cell_type": "code",
   "execution_count": null,
   "metadata": {},
   "outputs": [],
   "source": [
    "number_of_lists = data[\"CandidateListID\"].max()\n",
    "height = 6 * number_of_lists\n",
    "fig, ax = plt.subplots(number_of_lists, 1, figsize=(10, height))\n",
    "\n",
    "for list in data[\"CandidateListID\"].unique():\n",
    "    index = list - 1\n",
    "    list_data = data[data[\"CandidateListID\"] == list]\n",
    "    list_data[\"CandidateAge\"].hist(ax=ax[index])\n",
    "    ax[index].set_title(list_data[\"CandidateListName\"].iloc[0])\n",
    "    ax[index].set_xlabel(\"Věk kandidátů\")\n",
    "    ax[index].set_ylabel(\"Počet kandidátů\")"
   ]
  },
  {
   "cell_type": "markdown",
   "metadata": {},
   "source": [
    "## 03 Vzdělání kandidátů"
   ]
  },
  {
   "cell_type": "code",
   "execution_count": null,
   "metadata": {},
   "outputs": [],
   "source": [
    "dis = [\"DiS\"]\n",
    "bc = [\"Bc\", \"BcA\", \"BBA\", \"BPA\", \"B.Th.\", \"B.A.\", \"BSc.\", \"LL.B.\", \"BLaw\"]\n",
    "mgr = [\"Ing.\", \"Ing. arch.\", \"MUDr.\", \"MDDr.\", \"MVDr.\", \"MgA.\", \"Mgr.\", \"JUDr.\", \"PhDr.\", \"RNDr.\", \"PharmDr.\", \"ThLic.\", \"ThDr.\", \"MSDr.\", \"PaedDr.\", \"PhMr.\", \"RCDr.\", \"RSDr.\", \"RTDr.\", \"ThMgr.\", \"MBA\", \"MPA\", \"M.Th.\", \"M.A.\", \"MSc.\", \"Dipl.-Ing.\", \"MLaw\", \"LL.M.\", \"MMed.\"]\n",
    "doc = [\"Ph.D.\", \"DSc.\", \"CSc.\", \"Dr.\", \"DrSc.\", \"Th.D.\", \"M.D.\", \"EngD.\"]\n",
    "\n",
    "data[\"Education\"] = 0\n",
    "\n",
    "for index, row in data.iterrows():\n",
    "    name = row[\"CandidateName\"]\n",
    "    if sum([x in name for x in doc]) > 0:\n",
    "        data.at[index, \"Education\"] = 4\n",
    "    elif sum([x in name for x in mgr]) > 0:\n",
    "        data.at[index, \"Education\"] = 3\n",
    "    elif sum([x in name for x in bc]) > 0:\n",
    "        data.at[index, \"Education\"] = 2\n",
    "    elif sum([x in name for x in dis]) > 0:\n",
    "        data.at[index, \"Education\"] = 1\n",
    "    else:\n",
    "        continue"
   ]
  },
  {
   "cell_type": "code",
   "execution_count": null,
   "metadata": {},
   "outputs": [],
   "source": [
    "max_value = data[\"Education\"].max()\n",
    "min_value = data[\"Education\"].min()\n",
    "bins = max_value - min_value + 1\n",
    "bin_length = (bins - 1) / bins\n",
    "ticks = [min_value + bin_length * (x - 1 / 2) for x in range(1, bins + 1)]\n",
    "plt.hist(data[\"Education\"], bins=bins)\n",
    "plt.xticks(ticks, [\"Maturita\", \"DiS\", \"Bc\", \"Mgr\", \"PhD\"]);"
   ]
  },
  {
   "cell_type": "code",
   "execution_count": null,
   "metadata": {},
   "outputs": [],
   "source": [
    "number_of_lists = data[\"CandidateListID\"].max()\n",
    "height = 6 * number_of_lists\n",
    "fig, ax = plt.subplots(number_of_lists, 1, figsize=(10, height))\n",
    "max_value = data[\"Education\"].max()\n",
    "min_value = data[\"Education\"].min()\n",
    "bins = max_value - min_value + 1\n",
    "bin_length = (bins - 1) / bins\n",
    "ticks = [min_value + bin_length * (x - 1 / 2) for x in range(1, bins + 1)]\n",
    "plt.setp(ax, xticks=ticks, xticklabels=[\"Maturita\", \"DiS\", \"Bc\", \"Mgr\", \"PhD\"])\n",
    "\n",
    "for list in data[\"CandidateListID\"].unique():\n",
    "    index = list - 1\n",
    "    list_data = data[data[\"CandidateListID\"] == list]\n",
    "    list_data[\"Education\"].hist(ax=ax[index], bins=bins, range=[min_value, max_value])\n",
    "    ax[index].set_title(list_data[\"CandidateListName\"].iloc[0])\n",
    "    ax[index].set_xlabel(\"Vzdělání kandidátů\")\n",
    "    ax[index].set_ylabel(\"Počet kandidátů\")"
   ]
  },
  {
   "cell_type": "markdown",
   "metadata": {},
   "source": [
    "## 04 Úspěšnost kandidátů"
   ]
  },
  {
   "cell_type": "code",
   "execution_count": null,
   "metadata": {},
   "outputs": [],
   "source": [
    "# Pokud seřadím kandidáty podle procentuálního počtu preferenčních hlasů,\n",
    "# získám tak nejúspěšnější kandidáty v rámci strany podle preferenčních hlasů\n",
    "data.sort_values(\"PreferentialVotesPercentage\", ascending=False).head(10)"
   ]
  },
  {
   "cell_type": "markdown",
   "metadata": {},
   "source": [
    "## 05 Počet kandidujících žen"
   ]
  },
  {
   "cell_type": "code",
   "execution_count": null,
   "metadata": {
    "scrolled": true
   },
   "outputs": [],
   "source": [
    "women = data[data[\"CandidateName\"].str.contains(\"ová \")]\n",
    "max_value = data[\"CandidateListID\"].max()\n",
    "min_value = data[\"CandidateListID\"].min()\n",
    "ticks = [x + 1 / 2 for x in range(min_value, max_value + 1)]\n",
    "indexes = data[\"CandidateListID\"].unique()\n",
    "names = [data[data[\"CandidateListID\"] == x][\"CandidateListName\"].iloc[0] for x in indexes]\n",
    "plt.figure(figsize=(10, 20))\n",
    "plt.hist(women[\"CandidateListID\"], orientation=\"horizontal\", bins=len(names))\n",
    "plt.yticks(ticks, names);"
   ]
  }
 ],
 "metadata": {
  "kernelspec": {
   "display_name": "Python 3",
   "language": "python",
   "name": "python3"
  },
  "language_info": {
   "codemirror_mode": {
    "name": "ipython",
    "version": 3
   },
   "file_extension": ".py",
   "mimetype": "text/x-python",
   "name": "python",
   "nbconvert_exporter": "python",
   "pygments_lexer": "ipython3",
   "version": "3.7.2"
  }
 },
 "nbformat": 4,
 "nbformat_minor": 2
}
